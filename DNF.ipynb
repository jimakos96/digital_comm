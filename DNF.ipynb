{
 "cells": [
  {
   "cell_type": "code",
   "execution_count": 1,
   "metadata": {},
   "outputs": [],
   "source": [
    "import sys\n",
    "\n"
   ]
  },
  {
   "cell_type": "code",
   "execution_count": 5,
   "metadata": {},
   "outputs": [],
   "source": [
    "def reset(u):\n",
    "    s = len(u)\n",
    "    clr = []\n",
    "    for i in range(0, s):\n",
    "        clr.append(0)\n",
    "    return clr\n"
   ]
  },
  {
   "cell_type": "code",
   "execution_count": 6,
   "metadata": {},
   "outputs": [],
   "source": [
    "def check_sat(C, n):\n",
    "\n",
    "    S = []\n",
    "    for j in range(0, n):\n",
    "        S.append(0)\n",
    "\n",
    "    y = len(C)\n",
    "    i = 0\n",
    "    while i < y:\n",
    "        if C[i] == \"x\":\n",
    "            i = i+1\n",
    "            if S[int(C[i])-1]==1:\n",
    "                S = reset(S)\n",
    "                while C[i]!=\"(\":\n",
    "                        i = i+1\n",
    "                        if i >= y:\n",
    "                            return False\n",
    "            else:\n",
    "                S[int(C[i])-1] = 2\n",
    "        elif C[i] == \"¬\":\n",
    "            i = i+2\n",
    "            if S[int(C[i])-1]==2:\n",
    "                S=reset(S)\n",
    "                while C[i] != \"(\":\n",
    "                    i = i+1\n",
    "                    if i >= y:\n",
    "                        return False\n",
    "            else:\n",
    "                S[int(C[i])-1] = 1\n",
    "\n",
    "        if C[i] == \")\":\n",
    "            return True\n",
    "        i = i+1\n",
    "    \n",
    "    return True"
   ]
  },
  {
   "cell_type": "code",
   "execution_count": 11,
   "metadata": {},
   "outputs": [
    {
     "name": "stdout",
     "output_type": "stream",
     "text": [
      "Λογική έκφραση(x1 ∧ ¬x2 ∧ x3) ∨ (¬x2 ∧ x3) ∨ (x4 ∧ x5 ∧ ¬x6)\n",
      "Αριθμός Μεταβλητών6\n",
      "Ναι\n"
     ]
    }
   ],
   "source": [
    "C=input(\"Λογική έκφραση\")\n",
    "n=int(input(\"Αριθμός Μεταβλητών\"))\n",
    "\n",
    "if (check_sat(C,n)):\n",
    "    print(\"Ναι\")\n",
    "else:\n",
    "    print(\"Οχι\")"
   ]
  },
  {
   "cell_type": "code",
   "execution_count": 12,
   "metadata": {},
   "outputs": [
    {
     "name": "stdout",
     "output_type": "stream",
     "text": [
      "Λογική έκφραση (x1 ∧ ¬x1 ∧ x2) ∨ (¬x3 ∧ x3)\n",
      "Αριθμός Μεταβλητών3\n",
      "Οχι\n"
     ]
    }
   ],
   "source": [
    "C=input(\"Λογική έκφραση\")\n",
    "n=int(input(\"Αριθμός Μεταβλητών\"))\n",
    "\n",
    "if (check_sat(C,n)):\n",
    "    print(\"Ναι \")\n",
    "else:\n",
    "    print(\"Οχι\")"
   ]
  },
  {
   "cell_type": "code",
   "execution_count": null,
   "metadata": {},
   "outputs": [],
   "source": []
  }
 ],
 "metadata": {
  "kernelspec": {
   "display_name": "Python 3",
   "language": "python",
   "name": "python3"
  },
  "language_info": {
   "codemirror_mode": {
    "name": "ipython",
    "version": 3
   },
   "file_extension": ".py",
   "mimetype": "text/x-python",
   "name": "python",
   "nbconvert_exporter": "python",
   "pygments_lexer": "ipython3",
   "version": "3.7.3"
  }
 },
 "nbformat": 4,
 "nbformat_minor": 2
}
