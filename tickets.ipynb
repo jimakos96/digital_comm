{
 "cells": [
  {
   "cell_type": "code",
   "execution_count": 1,
   "metadata": {},
   "outputs": [],
   "source": [
    "import numpy as np"
   ]
  },
  {
   "cell_type": "code",
   "execution_count": 91,
   "metadata": {},
   "outputs": [],
   "source": [
    "#random binary array shows attendance of student\n",
    "n=30 #days of the schedule \n",
    "days= np.random.randint(2, size=n)"
   ]
  },
  {
   "cell_type": "code",
   "execution_count": 92,
   "metadata": {},
   "outputs": [],
   "source": [
    "#get the number of day that student goes to EMP\n",
    "arr=[]\n",
    "count=0\n",
    "for i in range(0,len(days)):\n",
    "    if days[i]==1:\n",
    "        arr.append(i+1)\n",
    "\n",
    "\n"
   ]
  },
  {
   "cell_type": "code",
   "execution_count": 93,
   "metadata": {},
   "outputs": [
    {
     "data": {
      "text/plain": [
       "array([0, 0, 1, 0, 1, 1, 1, 0, 0, 0, 0, 0, 1, 1, 0, 1, 0, 1, 0, 0, 1, 1,\n",
       "       0, 1, 1, 1, 0, 1, 1, 0])"
      ]
     },
     "execution_count": 93,
     "metadata": {},
     "output_type": "execute_result"
    }
   ],
   "source": [
    "days"
   ]
  },
  {
   "cell_type": "code",
   "execution_count": null,
   "metadata": {},
   "outputs": [],
   "source": [
    "arr"
   ]
  },
  {
   "cell_type": "code",
   "execution_count": 94,
   "metadata": {},
   "outputs": [],
   "source": [
    "#values as an example of cost of different type of tickets\n",
    "costs = [2,7,15] #2->1day ,7->7 days, 15->30 days\n"
   ]
  },
  {
   "cell_type": "code",
   "execution_count": 96,
   "metadata": {},
   "outputs": [],
   "source": [
    "def minCost( days, costs):\n",
    "        \"\"\"\n",
    "        :type days: List[int]\n",
    "        :type costs: List[int]\n",
    "        :rtype: int\n",
    "        \"\"\"\n",
    "        N = len(days)\n",
    "        dp = [0]*(366)  # dp[i] means up to i-th day the minimum cost of the tickets\n",
    "        for i in days:\n",
    "            dp[i] = 1\n",
    "        for i in range(1,366):\n",
    "            if 0 == dp[i]:\n",
    "                dp[i] = dp[i-1]\n",
    "            else:\n",
    "                dp[i] = min(costs[0]+dp[i-1], costs[1]+dp[max(0,i-7)], costs[2]+dp[max(0,i-30)])\n",
    "        return dp[-1]\n",
    "\n"
   ]
  },
  {
   "cell_type": "code",
   "execution_count": 86,
   "metadata": {},
   "outputs": [
    {
     "data": {
      "text/plain": [
       "15"
      ]
     },
     "execution_count": 86,
     "metadata": {},
     "output_type": "execute_result"
    }
   ],
   "source": [
    "minCost(arr,costs)\n"
   ]
  },
  {
   "cell_type": "code",
   "execution_count": 67,
   "metadata": {},
   "outputs": [],
   "source": [
    "def num_days(S):   \n",
    "    arr=[]\n",
    "    count=0\n",
    "    for i in range(0,len(S)):\n",
    "        if days[i]==1:\n",
    "            arr.append(i+1)\n",
    "\n",
    "\n",
    "    return arr"
   ]
  },
  {
   "cell_type": "code",
   "execution_count": null,
   "metadata": {},
   "outputs": [],
   "source": [
    "#general pseudocode for all cases \n",
    "\n",
    "\n",
    "#We have an binary array that shows whether or not student goes to emp lets say for a month\n",
    "# S=[1, 0, 1, 1, 1, 0, 1, 0, 0, 0, 0, 1, 0, 1, 1, 1, 1, 0, 1, 1, 1, 1, 1, 0, 1, 1, 0, 1, 1, 1, 1] 0->kopana ,1->ma8hma\n",
    "# I use the S array to get a new array days[] that shows me the specific number of day that student goes \n",
    "#for example for the S that i have days=[1, 3, 4, 5, 7, 12, 14, 15, 16, 17, 19, 20, 21, 22, 23, 25, 26, 28, 29, 30, 31]\n",
    "# we define a cost array costs=[2,7,15] that show the price of ticket and the days we can use it \n",
    "#for example above we have for 1-day cost is 2$ ,7-day cost is $7 ,30-day cost is 15$ according to the implemenation of function minCost\n",
    "\n",
    "\n",
    "\n",
    "S=binary_array          #for n days in the schedule that shows attendance of student\n",
    "days,lastDay=num_days(S) #the implementation of num_days() is above  O(n)\n",
    "costs=[p1,p2,...pk]     #k<=n where pi is the cost of ticket that allows us to use it for i days \n",
    "                        #p1<p2<p3<...<pk  price is increasing with the number of days\n",
    "\n",
    "    \n",
    "#Κάθε διδακτικό εξάμηνο πρέπει να καλύπτει τουλάχιστον δεκατρείς (13) πλήρεις εβδομάδες \n",
    "#Άρα ο μέγιστος αριθμός  ημερών μαθημάτων είναι 182 μέρες ,B<=182\n",
    "def minCost( days_going_in_emp, costs_of_tickets):\n",
    "        \n",
    "        N = len(days)\n",
    "        dp = [0]*(B+1)   # dp[i] means up to i-th day the minimum cost of the tickets for max period of 182 days\n",
    "        for i in days:\n",
    "            dp[i] = 1\n",
    "        for i in range(1,(B+1)):\n",
    "            if 0 == dp[i]:\n",
    "                dp[i] = dp[i-1] #no need to buy ticket student doesn't go to EMP\n",
    "            else:\n",
    "                dp[i] = min(costs[0]+dp[i-1], costs[1]+dp[max(0,i-2)], costs[2]+dp[max(0,i-3)],....,costs[k]+dp[max(0,i-k)])\n",
    "        return dp[-1] # the minimum cost for all days of the schedule of the student whether or not he/she went to EMP\n",
    "    \n",
    "    \n",
    "    # complexity O(k*B)=O(k^2)  worst case B=k types of tickets equals to days that the student can maybe go to EMP python \n",
    "    \n",
    "    \n",
    "    \n",
    "    \n",
    "    \n",
    "\n"
   ]
  },
  {
   "cell_type": "code",
   "execution_count": null,
   "metadata": {},
   "outputs": [],
   "source": []
  }
 ],
 "metadata": {
  "kernelspec": {
   "display_name": "Python 3.6",
   "language": "python",
   "name": "python36"
  },
  "language_info": {
   "codemirror_mode": {
    "name": "ipython",
    "version": 3
   },
   "file_extension": ".py",
   "mimetype": "text/x-python",
   "name": "python",
   "nbconvert_exporter": "python",
   "pygments_lexer": "ipython3",
   "version": "3.6.6"
  }
 },
 "nbformat": 4,
 "nbformat_minor": 2
}
